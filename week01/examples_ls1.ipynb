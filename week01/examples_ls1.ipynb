{
 "cells": [
  {
   "cell_type": "code",
   "execution_count": 1,
   "id": "93daddb1",
   "metadata": {},
   "outputs": [
    {
     "data": {
      "text/plain": [
       "4"
      ]
     },
     "execution_count": 1,
     "metadata": {},
     "output_type": "execute_result"
    }
   ],
   "source": [
    "x = 4\n",
    "s = \"hello world!\"\n",
    "x"
   ]
  },
  {
   "cell_type": "code",
   "execution_count": 5,
   "id": "04001583",
   "metadata": {},
   "outputs": [
    {
     "name": "stdout",
     "output_type": "stream",
     "text": [
      "Results: \n",
      "Multiplication:  42\n",
      "Floating point division:  0.21428571428571427\n",
      "Integer Division:  0\n",
      "MRemainder from intger division:  3\n"
     ]
    }
   ],
   "source": [
    "x = 3\n",
    "y =14\n",
    "multi = x * y #multiplication\n",
    "div = x / y # division\n",
    "div2 = x // y # integer \n",
    "mod = x %  y # module\n",
    "\n",
    "print(\"Results: \")\n",
    "print(\"Multiplication: \", multi)\n",
    "print(\"Floating point division: \", div)\n",
    "print(\"Integer Division: \", div2)\n",
    "print(\"MRemainder from intger division: \", mod)"
   ]
  },
  {
   "cell_type": "markdown",
   "id": "992b648b",
   "metadata": {},
   "source": [
    "Functions:\n",
    "<li> Package up some statements of ocde to reuse them later\n",
    "<li> Use \"Parameters\"\n",
    "<li> Return a result"
   ]
  },
  {
   "cell_type": "code",
   "execution_count": 14,
   "id": "2698f2ef",
   "metadata": {},
   "outputs": [
    {
     "data": {
      "text/plain": [
       "42"
      ]
     },
     "execution_count": 14,
     "metadata": {},
     "output_type": "execute_result"
    }
   ],
   "source": [
    "def mult_three(x):\n",
    "    '''multiply the paramener x by 3 and return the result'''\n",
    "    result = x * 3\n",
    "    return result #copy the value out of the funstion\n",
    "\n",
    "#call the function to test it:\n",
    "mult_three(14)\n"
   ]
  },
  {
   "cell_type": "code",
   "execution_count": null,
   "id": "691c5d47",
   "metadata": {},
   "outputs": [
    {
     "name": "stdout",
     "output_type": "stream",
     "text": [
      "mult_three(14) = 42\n",
      "mult_three(14) = -9\n",
      "mult_three('14') = 141414\n"
     ]
    }
   ],
   "source": [
    "#test code: call the function, obtain the result and print out\n",
    "print(\"mult_three(14) =\", mult_three(14))\n",
    "print(\"mult_three(14) =\", mult_three(-3))\n",
    "print(\"mult_three('14') =\", mult_three(\"14\")) # comand slash"
   ]
  },
  {
   "cell_type": "code",
   "execution_count": 15,
   "id": "19fc645d",
   "metadata": {},
   "outputs": [],
   "source": [
    "def prin_greeting(name):\n",
    "    '''produce a greeting for the paramenter name (expect a string)'''\n",
    "    print (\"Hello, \" + name)"
   ]
  },
  {
   "cell_type": "code",
   "execution_count": 16,
   "id": "85522a4d",
   "metadata": {},
   "outputs": [
    {
     "name": "stdout",
     "output_type": "stream",
     "text": [
      "Hello, Lightning\n"
     ]
    }
   ],
   "source": [
    "prin_greeting(\"Lightning\")"
   ]
  },
  {
   "cell_type": "code",
   "execution_count": null,
   "id": "7bd255d5",
   "metadata": {},
   "outputs": [],
   "source": []
  }
 ],
 "metadata": {
  "kernelspec": {
   "display_name": "Python 3",
   "language": "python",
   "name": "python3"
  },
  "language_info": {
   "codemirror_mode": {
    "name": "ipython",
    "version": 3
   },
   "file_extension": ".py",
   "mimetype": "text/x-python",
   "name": "python",
   "nbconvert_exporter": "python",
   "pygments_lexer": "ipython3",
   "version": "3.12.1"
  }
 },
 "nbformat": 4,
 "nbformat_minor": 5
}
